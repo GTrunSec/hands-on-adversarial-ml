{
 "cells": [
  {
   "cell_type": "markdown",
   "metadata": {},
   "source": [
    "# Monotonic Classifiers\n",
    "\n",
    "Some classifiers should never \"flip-flop\" between classes. For example, consider the following classifier that labels system call traces from programs as being benign or malicious programs. No matter how many benign instructions are added to a malicious program, it should never trick the classifier into thinking it is benign.\n",
    "\n",
    "The classifier below takes sequences of system calls obtained from execution traces from malicious and benign programs. Treating each execution trace as a document, we extract a tf-idf[1] vector for feature extraction. Code below is provided that:\n",
    "1. Grabs ground truth traces\n",
    "1. Vectorizes them with tf-idf\n",
    "1. Performs 10-fold cross validation\n",
    "1. Trains a Logistic Regression model\n",
    "\n",
    "Your task as a malware author yourself, is to find direct and indirect ways to break this model so antivirus software cannot detect your code. Approach these tasks in three chunks:\n",
    "1. Manually manipulate a malicious feature vector such that the classifier mistakenly labels it malicious. If you successfully do this once, create a function that given a benign feature vector returns a new one that will be classified as benign.\n",
    "1. Identify features that, given your knowledge of what monotonic classifiers try to solve, could be used to \"flip\" a malicious program into benign one.\n",
    "1. Using the aforementioned features, write a function that transforms a malicious syscall trace (appending is fine) to be classified as benign.\n",
    "1. Modify the classifier so these features can no longer be used to \"flip\" a malicious trace. There's a quick'n'dirty way to do this, but more sophisticated[2] and robust[3] techniques exist if monotonicity is an important feature that your classifier needs.\n",
    "\n",
    "## References\n",
    "* [1] https://en.wikipedia.org/wiki/Tf%E2%80%93idf\n",
    "* [2] https://arxiv.org/pdf/1804.03643.pdf\n",
    "* [3] https://www.slideshare.net/MSbluehat/bluehat-v17-detecting-compromise-on-windows-endpoints-with-osquery"
   ]
  },
  {
   "cell_type": "markdown",
   "metadata": {},
   "source": [
    "## Utility Functions"
   ]
  },
  {
   "cell_type": "code",
   "execution_count": 1,
   "metadata": {},
   "outputs": [],
   "source": [
    "import os\n",
    "import sys\n",
    "import fnmatch\n",
    "import random\n",
    "import itertools\n",
    "from collections import Counter\n",
    "\n",
    "from sklearn.feature_extraction.text import TfidfVectorizer\n",
    "from sklearn.linear_model import LogisticRegression, Lasso\n",
    "from sklearn.model_selection import cross_val_score, cross_val_predict\n",
    "from sklearn.externals import joblib\n",
    "import numpy as np\n",
    "import pandas as pd\n",
    "import seaborn\n",
    "import matplotlib.pyplot as plt\n",
    "\n",
    "## utils\n",
    "def rwalk(directory, pattern):\n",
    "    \"\"\"Recursively search \"directory\" for files that match the Unix shell-style\n",
    "    wildcard given by \"pattern\" (like '*.mp3'). Returns matches as a generator.\"\"\"\n",
    "    for root, dirnames, filenames in os.walk(directory):\n",
    "        for filename in fnmatch.filter(filenames, pattern):\n",
    "            yield os.path.join(root, filename)\n",
    "\n",
    "def gettraces(benignpath='../data/01-monotonic-classifiers/benign-traces',\n",
    "              malpath='../data/01-monotonic-classifiers/malicious-traces'):\n",
    "    return list(rwalk(malpath, '*.trace')), list(rwalk(benignpath, '*.trace'))\n",
    "\n",
    "def get_random_malicious_trace(malpath='../data/01-monotonic-classifiers/malicious-traces'):\n",
    "    \"\"\"Grab the text of a random malicious system call trace.\"\"\"\n",
    "    mal, _ = gettraces(malpath=malpath)\n",
    "    with open(random.choice(mal)) as f:\n",
    "        return f.read()"
   ]
  },
  {
   "cell_type": "markdown",
   "metadata": {},
   "source": [
    "## Use the TfidfVectorizer to vectorize ground truth\n",
    "\n",
    "The following extracts vectors from each benign and malicious execution trace and returns four values:\n",
    "1. `X`: the feature vectors\n",
    "1. `y`: the class labels\n",
    "1. `terms`: the list of labels (0 is benign, 1 is malicious)\n",
    "1. `vectorizer`: a TfidfVectorizer which is fit to the terms in the ground truth and can be used to fit new syscall traces with `vectorizer.transform([trace1, trace2, ..., traceN])`"
   ]
  },
  {
   "cell_type": "code",
   "execution_count": 2,
   "metadata": {},
   "outputs": [],
   "source": [
    "def vectorize(featuredir='../data/01-monotonic-classifiers/feature-vectors'):\n",
    "    pos_traces, neg_traces = gettraces()\n",
    "    pos_y = [1 for _ in pos_traces]\n",
    "    neg_y = [0 for _ in neg_traces]\n",
    "    docs = [open(x).read() for x in pos_traces + neg_traces]\n",
    "    y = np.array(pos_y + neg_y)\n",
    "    \n",
    "    vectorizer = TfidfVectorizer()\n",
    "    X = vectorizer.fit_transform(docs)\n",
    "    terms = np.asarray(vectorizer.get_feature_names())\n",
    "    return X, y, terms, vectorizer\n",
    "\n",
    "X, y, terms, vectorizer = vectorize()"
   ]
  },
  {
   "cell_type": "code",
   "execution_count": 3,
   "metadata": {},
   "outputs": [
    {
     "data": {
      "text/plain": [
       "<2000x16 sparse matrix of type '<class 'numpy.float64'>'\n",
       "\twith 32000 stored elements in Compressed Sparse Row format>"
      ]
     },
     "execution_count": 3,
     "metadata": {},
     "output_type": "execute_result"
    }
   ],
   "source": [
    "X"
   ]
  },
  {
   "cell_type": "code",
   "execution_count": 4,
   "metadata": {},
   "outputs": [
    {
     "data": {
      "text/plain": [
       "array(['ntcreateprocessex', 'ntcreatethreadex', 'ntcreateuserprocess',\n",
       "       'ntdisplaystring', 'ntdrawtext', 'ntmodifybootentry', 'ntopenfile',\n",
       "       'ntopenkeyex', 'ntopentimer', 'ntquerydirectoryfile', 'ntreadfile',\n",
       "       'ntsavekeyex', 'ntsettimerex', 'ntwritefile', 'regcreatekeyex',\n",
       "       'regsavekeyex'],\n",
       "      dtype='<U20')"
      ]
     },
     "execution_count": 4,
     "metadata": {},
     "output_type": "execute_result"
    }
   ],
   "source": [
    "terms"
   ]
  },
  {
   "cell_type": "code",
   "execution_count": 5,
   "metadata": {},
   "outputs": [],
   "source": [
    "def _heatmap(crosstab):\n",
    "    plt.clf()\n",
    "    p = seaborn.heatmap(crosstab, square=True)\n",
    "    plt.tight_layout()\n",
    "    plt.show()\n",
    "\n",
    "def _cv(X, y, k, name, clf, csvname, modeldir=None, terms=None, resultdir=None):\n",
    "    print('## %s' % name)\n",
    "    print('### Cross Validation')\n",
    "    print('`%s`' % str(cross_val_score(clf, X, y, cv=k)))\n",
    "    print('### CV Confusion Matrix')\n",
    "    y_pred = cross_val_predict(clf, X, y, cv=k)\n",
    "    print('```')\n",
    "    print(pd.crosstab(y, y_pred, rownames=['True'], colnames=['Predicted']))\n",
    "    print('```')\n",
    "    _heatmap(pd.crosstab(y, y_pred, rownames=['True'], colnames=['Predicted'],\n",
    "                         normalize='index'))\n",
    "    clf.fit(X, y)\n",
    "    return clf"
   ]
  },
  {
   "cell_type": "code",
   "execution_count": 6,
   "metadata": {
    "scrolled": true
   },
   "outputs": [
    {
     "name": "stdout",
     "output_type": "stream",
     "text": [
      "## name\n",
      "### Cross Validation\n",
      "`[ 1.  1.  1.  1.  1.  1.  1.  1.  1.  1.]`\n",
      "### CV Confusion Matrix\n",
      "```\n",
      "Predicted     0     1\n",
      "True                 \n",
      "0          1000     0\n",
      "1             0  1000\n",
      "```\n"
     ]
    },
    {
     "data": {
      "image/png": "[encoded data removed]",
      "text/plain": [
       "<Figure size 432x288 with 2 Axes>"
      ]
     },
     "metadata": {
      "needs_background": "light"
     },
     "output_type": "display_data"
    }
   ],
   "source": [
    "clf = _cv(X, y, 10, 'name', LogisticRegression(solver='lbfgs'), 'foo.csv', modeldir='../work', terms=terms, resultdir='../work')"
   ]
  },
  {
   "cell_type": "code",
   "execution_count": 7,
   "metadata": {},
   "outputs": [
    {
     "data": {
      "text/plain": [
       "array([0, 1])"
      ]
     },
     "execution_count": 7,
     "metadata": {},
     "output_type": "execute_result"
    }
   ],
   "source": [
    "clf.classes_"
   ]
  },
  {
   "cell_type": "code",
   "execution_count": 8,
   "metadata": {},
   "outputs": [
    {
     "data": {
      "text/plain": [
       "array([ 2.24482262,  2.24424061, -2.14186277, -2.13967196, -2.1405273 ,\n",
       "        2.24523331, -2.13965475, -2.13854639, -2.13845327, -2.1407568 ,\n",
       "       -2.14462209,  2.24613296,  2.24276795,  0.10771154,  2.24801507,\n",
       "        2.2431061 ])"
      ]
     },
     "execution_count": 8,
     "metadata": {},
     "output_type": "execute_result"
    }
   ],
   "source": [
    "clf.coef_[0]"
   ]
  },
  {
   "cell_type": "code",
   "execution_count": 9,
   "metadata": {},
   "outputs": [
    {
     "data": {
      "text/plain": [
       "array(['ntcreateprocessex', 'ntcreatethreadex', 'ntcreateuserprocess',\n",
       "       'ntdisplaystring', 'ntdrawtext', 'ntmodifybootentry', 'ntopenfile',\n",
       "       'ntopenkeyex', 'ntopentimer', 'ntquerydirectoryfile', 'ntreadfile',\n",
       "       'ntsavekeyex', 'ntsettimerex', 'ntwritefile', 'regcreatekeyex',\n",
       "       'regsavekeyex'],\n",
       "      dtype='<U20')"
      ]
     },
     "execution_count": 9,
     "metadata": {},
     "output_type": "execute_result"
    }
   ],
   "source": [
    "terms"
   ]
  },
  {
   "cell_type": "markdown",
   "metadata": {},
   "source": [
    "# Exploration\n",
    "\n",
    "Let's spend some time familiarizing ourselves with the input data and the classifier. First, we'll examine the dataset in more detail. Then, we'll go over how to interact with the classifier through the vectorizer and `numpy`.\n",
    "\n",
    "## Dataset"
   ]
  },
  {
   "cell_type": "code",
   "execution_count": 85,
   "metadata": {},
   "outputs": [
    {
     "name": "stdout",
     "output_type": "stream",
     "text": [
      "num malicious traces: 1000\n",
      "num benign traces: 1000\n",
      "malicious trace path: ../data/01-monotonic-classifiers/malicious-traces/0228.trace\n",
      "benign trace path: ../data/01-monotonic-classifiers/benign-traces/0228.trace\n",
      "\n",
      "# Sample Trace\n",
      "RegCreateKeyEx\n",
      "NtModifyBootEntry\n",
      "NtModifyBootEntry\n",
      "NtCreateProcessEx\n",
      "RegCreateKeyEx\n",
      "NtSaveKeyEx\n",
      "NtCr...\n",
      "len(trace): 311230\n"
     ]
    }
   ],
   "source": [
    "# Load all malicious and benign traces from the ground truth dataset\n",
    "maltraces, bentraces = gettraces()\n",
    "print('num malicious traces: %d' % len(maltraces))\n",
    "print('num benign traces: %d' % len(bentraces))\n",
    "print('malicious trace path: %s' % maltraces[0])\n",
    "print('benign trace path: %s' % bentraces[0])\n",
    "\n",
    "# Let's see what a trace file looks like!\n",
    "with open(maltraces[0]) as f:\n",
    "    maltrace_text = f.read()\n",
    "\n",
    "print('\\n# Sample Trace')\n",
    "print(maltrace_text[:100] + '...')\n",
    "print('len(trace): %d' % len(maltrace_text))\n",
    "# i/o basics\n",
    "# numpy basics\n",
    "# classifier basics"
   ]
  },
  {
   "cell_type": "markdown",
   "metadata": {},
   "source": [
    "So we have 1000 malicious and 1000 benign traces, which are simple text files. The traces files contain one [win32 API call](https://docs.microsoft.com/en-us/windows/win32/api/winreg/nf-winreg-regcreatekeyexa) per line. What is the distribution of system calls in this single malicious trace we've been analyzing?"
   ]
  },
  {
   "cell_type": "code",
   "execution_count": 11,
   "metadata": {},
   "outputs": [
    {
     "data": {
      "text/plain": [
       "[('NtWriteFile', 2567),\n",
       " ('NtCreateProcessEx', 2440),\n",
       " ('RegCreateKeyEx', 2422),\n",
       " ('RegSaveKeyEx', 2413),\n",
       " ('NtSetTimerEx', 2405),\n",
       " ('NtSaveKeyEx', 2392),\n",
       " ('NtCreateThreadEx', 2350),\n",
       " ('NtModifyBootEntry', 2340),\n",
       " ('NtCreateUserProcess', 250),\n",
       " ('NtQueryDirectoryFile', 242),\n",
       " ('NtDisplayString', 242),\n",
       " ('NtDrawText', 235),\n",
       " ('NtOpenTimer', 233),\n",
       " ('NtReadFile', 231),\n",
       " ('NtOpenKeyEx', 228),\n",
       " ('NtOpenFile', 196)]"
      ]
     },
     "execution_count": 11,
     "metadata": {},
     "output_type": "execute_result"
    }
   ],
   "source": [
    "def frequency(trace):\n",
    "    return Counter(trace.splitlines())\n",
    "frequency(maltrace_text).most_common()"
   ]
  },
  {
   "cell_type": "markdown",
   "metadata": {},
   "source": [
    "And for a single benign trace?"
   ]
  },
  {
   "cell_type": "code",
   "execution_count": 86,
   "metadata": {},
   "outputs": [
    {
     "data": {
      "text/plain": [
       "[('NtWriteFile', 628),\n",
       " ('NtOpenFile', 621),\n",
       " ('NtCreateUserProcess', 593),\n",
       " ('NtDrawText', 586),\n",
       " ('NtOpenKeyEx', 577),\n",
       " ('NtOpenTimer', 564),\n",
       " ('NtDisplayString', 557),\n",
       " ('NtReadFile', 550),\n",
       " ('NtQueryDirectoryFile', 545),\n",
       " ('NtCreateThreadEx', 88),\n",
       " ('NtSetTimerEx', 86),\n",
       " ('RegCreateKeyEx', 77),\n",
       " ('RegSaveKeyEx', 73),\n",
       " ('NtSaveKeyEx', 63),\n",
       " ('NtModifyBootEntry', 61),\n",
       " ('NtCreateProcessEx', 54)]"
      ]
     },
     "execution_count": 86,
     "metadata": {},
     "output_type": "execute_result"
    }
   ],
   "source": [
    "with open(bentraces[0]) as f:\n",
    "    bentrace_text = f.read()\n",
    "\n",
    "frequency(bentrace_text).most_common()"
   ]
  },
  {
   "cell_type": "markdown",
   "metadata": {},
   "source": [
    "What are some of the differences between these two traces? Post your answers in Group Chat!\n",
    "\n",
    "The `Counter` class let's us add two of them together to merge the counts. For example:"
   ]
  },
  {
   "cell_type": "code",
   "execution_count": 87,
   "metadata": {},
   "outputs": [
    {
     "data": {
      "text/plain": [
       "[('NtWriteFile', 3195),\n",
       " ('RegCreateKeyEx', 2499),\n",
       " ('NtCreateProcessEx', 2494),\n",
       " ('NtSetTimerEx', 2491),\n",
       " ('RegSaveKeyEx', 2486),\n",
       " ('NtSaveKeyEx', 2455),\n",
       " ('NtCreateThreadEx', 2438),\n",
       " ('NtModifyBootEntry', 2401),\n",
       " ('NtCreateUserProcess', 843),\n",
       " ('NtDrawText', 821),\n",
       " ('NtOpenFile', 817),\n",
       " ('NtOpenKeyEx', 805),\n",
       " ('NtDisplayString', 799),\n",
       " ('NtOpenTimer', 797),\n",
       " ('NtQueryDirectoryFile', 787),\n",
       " ('NtReadFile', 781)]"
      ]
     },
     "execution_count": 87,
     "metadata": {},
     "output_type": "execute_result"
    }
   ],
   "source": [
    "(frequency(maltrace_text) + frequency(bentrace_text)).most_common()"
   ]
  },
  {
   "cell_type": "markdown",
   "metadata": {},
   "source": [
    "## Vectorizer, Numpy, and Classifier\n",
    "\n",
    "This particular classifier relies on a `vectorizer` that turns raw text---like our traces---into a numerical feature vector. This allows us to use our typical machine learning algorithms on text data. Let's create a matrix containing two feature vectors containing the malicious and benign traces from above."
   ]
  },
  {
   "cell_type": "code",
   "execution_count": 88,
   "metadata": {},
   "outputs": [
    {
     "name": "stdout",
     "output_type": "stream",
     "text": [
      "(2, 16)\n"
     ]
    },
    {
     "data": {
      "text/plain": [
       "matrix([[ 0.35527455,  0.34217016,  0.03640108,  0.03523625,  0.03421702,\n",
       "          0.34071412,  0.02853845,  0.03319779,  0.03392581,  0.03523625,\n",
       "          0.0336346 ,  0.34828554,  0.3501784 ,  0.3737663 ,  0.35265367,\n",
       "          0.35134323],\n",
       "        [ 0.03080502,  0.05020077,  0.33828472,  0.31774805,  0.33429148,\n",
       "          0.03479826,  0.3542577 ,  0.32915731,  0.32174129,  0.31090249,\n",
       "          0.3137548 ,  0.03593919,  0.04905984,  0.35825094,  0.04392567,\n",
       "          0.04164382]])"
      ]
     },
     "execution_count": 88,
     "metadata": {},
     "output_type": "execute_result"
    }
   ],
   "source": [
    "A = vectorizer.transform([maltrace_text, bentrace_text])\n",
    "print(A.shape)\n",
    "\n",
    "A.todense()"
   ]
  },
  {
   "cell_type": "markdown",
   "metadata": {},
   "source": [
    "So we see that `vectorizer.transform` takes a list of traces (the raw text from the file, _not_ the path) as input and returns a matrix of values where each row corresponds to the trace and the columns represent the vectorized text, i.e., our features. This means our dataset contains 16 features.\n",
    "\n",
    "Since we now have a matrix of values, we can do simple matrix arithmetic to manipulate the feature vectors. For those not familiar with the library `numpy` (here `import numpy as np`), we can construct `n`-dimensional arrays with `np.array`. For example:"
   ]
  },
  {
   "cell_type": "code",
   "execution_count": 15,
   "metadata": {},
   "outputs": [
    {
     "name": "stdout",
     "output_type": "stream",
     "text": [
      "(16,)\n",
      "[ 0  1  2  3  4  5  6  7  8  9 10 11 12 13 14 15]\n"
     ]
    }
   ],
   "source": [
    "a = np.array(range(16))\n",
    "print(a.shape)\n",
    "print(a)"
   ]
  },
  {
   "cell_type": "markdown",
   "metadata": {},
   "source": [
    "Creates a 1-dimensional array (a vector) of the values 0--15. We can now do vectorized arithmetic to affect all the values in a matrix without having to waste time looping through each row. For example, the snippet below adds 1 to every other column in the feature vector matrix."
   ]
  },
  {
   "cell_type": "code",
   "execution_count": 16,
   "metadata": {},
   "outputs": [
    {
     "data": {
      "text/plain": [
       "matrix([[ 1.35527455,  0.34217016,  1.03640108,  0.03523625,  1.03421702,\n",
       "          0.34071412,  1.02853845,  0.03319779,  1.03392581,  0.03523625,\n",
       "          1.0336346 ,  0.34828554,  1.3501784 ,  0.3737663 ,  1.35265367,\n",
       "          0.35134323],\n",
       "        [ 1.03080502,  0.05020077,  1.33828472,  0.31774805,  1.33429148,\n",
       "          0.03479826,  1.3542577 ,  0.32915731,  1.32174129,  0.31090249,\n",
       "          1.3137548 ,  0.03593919,  1.04905984,  0.35825094,  1.04392567,\n",
       "          0.04164382]])"
      ]
     },
     "execution_count": 16,
     "metadata": {},
     "output_type": "execute_result"
    }
   ],
   "source": [
    "A + np.array([1, 0, 1, 0, 1, 0, 1, 0, 1, 0, 1, 0, 1, 0, 1, 0])"
   ]
  },
  {
   "cell_type": "markdown",
   "metadata": {},
   "source": [
    "So now that we have a matrix, how do we use the classifier? Our classifier was built above and stored as `clf`. We can use the `clf.predict()` method to predict whether a vectorized trace is from a malicious or benign program. Note that `1` means malicious and `0` means benign."
   ]
  },
  {
   "cell_type": "code",
   "execution_count": 17,
   "metadata": {},
   "outputs": [
    {
     "data": {
      "text/plain": [
       "array([1, 0])"
      ]
     },
     "execution_count": 17,
     "metadata": {},
     "output_type": "execute_result"
    }
   ],
   "source": [
    "clf.predict(A)"
   ]
  },
  {
   "cell_type": "markdown",
   "metadata": {},
   "source": [
    "This means our first row was classified as malicious and our second row was classified as benign. Considering `A` was constructed by running `vectorizer.transform([maltrace_text, bentrace_text])`, this makes perfect sense! Since `A` is just a matrix of values, we can also classify the manipulation of these matrices as we had done above. For example, let's add a vector to `A` and see how it impacts the classifier's output:"
   ]
  },
  {
   "cell_type": "code",
   "execution_count": 18,
   "metadata": {},
   "outputs": [
    {
     "data": {
      "text/plain": [
       "array([1, 1])"
      ]
     },
     "execution_count": 18,
     "metadata": {},
     "output_type": "execute_result"
    }
   ],
   "source": [
    "clf.predict(A + np.array(range(16)))"
   ]
  },
  {
   "cell_type": "markdown",
   "metadata": {},
   "source": [
    "Notice that this affected the classification result! Both are now considered malicious. Soon, we'll figure out how to do this in the other direction :). But first..."
   ]
  },
  {
   "cell_type": "markdown",
   "metadata": {},
   "source": [
    "# Warm Up\n",
    "\n",
    "Complete the following exercises to demonstrate familiarity with the dataset:\n",
    "\n",
    "* How many _unique_ system calls are there in this dataset in total?\n",
    "* What is the most common system call? For malicious traces only? What about benign?\n",
    "* Complete the function `get_feature_vector(path, vectorizer)` that given a path to a trace and the example vectorizer, returns the feature vector as a matrix.\n",
    "\n",
    "Post your answers to the Group Chat!"
   ]
  },
  {
   "cell_type": "code",
   "execution_count": 68,
   "metadata": {},
   "outputs": [],
   "source": [
    "def get_feature_vector(path, vectorizer):\n",
    "    pass"
   ]
  },
  {
   "cell_type": "markdown",
   "metadata": {},
   "source": [
    "# Direct Attack\n",
    "\n",
    "You (somehow) have direct access to the feature vectors. Don't ask how, celebrate! Let's try to figure out the difference between malicious and benign feature vectors."
   ]
  },
  {
   "cell_type": "markdown",
   "metadata": {},
   "source": [
    "### Retrieve and Examine Vectors\n",
    "\n",
    "Let's dig into these features vectors. We can understand them better by comparing the feature vectors for one malicious trace, one benign trace, and their difference."
   ]
  },
  {
   "cell_type": "code",
   "execution_count": 58,
   "metadata": {},
   "outputs": [],
   "source": [
    "mal_fv = get_feature_vector(maltraces[0], vectorizer)\n",
    "ben_fv = get_feature_vector(bentraces[0], vectorizer)"
   ]
  },
  {
   "cell_type": "code",
   "execution_count": 63,
   "metadata": {
    "scrolled": false
   },
   "outputs": [
    {
     "name": "stdout",
     "output_type": "stream",
     "text": [
      "malicious\t\t\tbenign\t\t\t\t\tmalicious - benign\n",
      "  (0, 0)\t0.355274549501\t  (0, 0)\t0.0308050170905\t\t  (0, 0)\t0.324469532411\n",
      "  (0, 1)\t0.34217016038\t  (0, 1)\t0.050200768592\t\t  (0, 1)\t0.291969391788\n",
      "  (0, 2)\t0.0364010808915\t  (0, 2)\t0.338284724716\t\t  (0, 2)\t-0.301883643825\n",
      "  (0, 3)\t0.035236246303\t  (0, 3)\t0.317748046656\t\t  (0, 3)\t-0.282511800353\n",
      "  (0, 4)\t0.034217016038\t  (0, 4)\t0.33429148176\t\t  (0, 4)\t-0.300074465722\n",
      "  (0, 5)\t0.340714117144\t  (0, 5)\t0.0347982600467\t\t  (0, 5)\t0.305915857098\n",
      "  (0, 6)\t0.0285384474189\t  (0, 6)\t0.354257696541\t\t  (0, 6)\t-0.325719249122\n",
      "  (0, 7)\t0.0331977857731\t  (0, 7)\t0.329157312245\t\t  (0, 7)\t-0.295959526472\n",
      "  (0, 8)\t0.0339258073909\t  (0, 8)\t0.321741289612\t\t  (0, 8)\t-0.287815482221\n",
      "  (0, 9)\t0.035236246303\t  (0, 9)\t0.310902487303\t\t  (0, 9)\t-0.275666241\n",
      "  (0, 10)\t0.0336345987437\t  (0, 10)\t0.3137548037\t\t  (0, 10)\t-0.280120204956\n",
      "  (0, 11)\t0.34828554197\t  (0, 11)\t0.0359391866056\t\t  (0, 11)\t0.312346355364\n",
      "  (0, 12)\t0.350178398176\t  (0, 12)\t0.0490598420331\t\t  (0, 12)\t0.301118556143\n",
      "  (0, 13)\t0.373766298594\t  (0, 13)\t0.358250939497\t\t  (0, 13)\t0.0155153590967\n",
      "  (0, 14)\t0.352653671677\t  (0, 14)\t0.043925672518\t\t  (0, 14)\t0.308727999159\n",
      "  (0, 15)\t0.351343232765\t  (0, 15)\t0.0416438194002\t\t  (0, 15)\t0.309699413365\n"
     ]
    }
   ],
   "source": [
    "print('malicious\\t\\t\\tbenign\\t\\t\\t\\t\\tmalicious - benign')\n",
    "diff_fv = mal_fv - ben_fv\n",
    "for mal, ben, diff in reversed(list(zip(str(mal_fv).split('\\n'),\n",
    "                                        str(ben_fv).split('\\n'),\n",
    "                                        reversed(str(diff_fv).split('\\n'))))):\n",
    "    print('%s\\t%s\\t\\t%s' % (mal, ben, diff))"
   ]
  },
  {
   "cell_type": "markdown",
   "metadata": {},
   "source": [
    "What are some ways you could you could make this malicious feature vector \"look\" more like the benign one? Do you believe these feature vectors are representative of the two distributions (malicious vs. benign)? Why or why not? Post your answers in Group Chat!\n",
    "\n",
    "Based on what we discussed, modify the `feature_vector_malicious_to_benign` function below such that it transforms a malicious feature vector into a benign feature vector."
   ]
  },
  {
   "cell_type": "code",
   "execution_count": 75,
   "metadata": {},
   "outputs": [
    {
     "name": "stdout",
     "output_type": "stream",
     "text": [
      "[1]\n",
      "[1]\n"
     ]
    }
   ],
   "source": [
    "def feature_vector_malicious_to_benign(fv):\n",
    "    delta = np.zeros(16) # Student TODO: Change me to something that works! :)\n",
    "    return fv + delta\n",
    "print(clf.predict(mal_fv))\n",
    "print(clf.predict(feature_vector_malicious_to_benign(mal_fv)))"
   ]
  },
  {
   "cell_type": "markdown",
   "metadata": {},
   "source": [
    "Once you've successfully modified `feature_vector_malicious_to_benign` to change the classifier's output from 1 to 0, continue on to the next step.\n",
    "\n",
    "Let's see if our function works on _all_ of the malicious samples now. Run the cell below (and replace `feature_vector_malicious_to_benign` with your function if you gave it a different name). Are all the mutated ones classified as benign (0)? If not, tweak `feature_vector_malicious_to_benign` until it does. "
   ]
  },
  {
   "cell_type": "code",
   "execution_count": 76,
   "metadata": {},
   "outputs": [
    {
     "name": "stdout",
     "output_type": "stream",
     "text": [
      "original: Counter({1: 1000})\n",
      "mutated:  Counter({1: 1000})\n"
     ]
    }
   ],
   "source": [
    "def mutate_all_malicious(mutate_fn):\n",
    "    maltraces, _ = gettraces()\n",
    "    A = vectorizer.transform([open(x).read() for x in maltraces])\n",
    "    A_mutated = mutate_fn(A)\n",
    "    \n",
    "    print('original:', Counter(clf.predict(A)))\n",
    "    print('mutated: ', Counter(clf.predict(A_mutated)))\n",
    "    \n",
    "mutate_all_malicious(feature_vector_malicious_to_benign)"
   ]
  },
  {
   "cell_type": "markdown",
   "metadata": {},
   "source": [
    "## Indirect Attack Part 1 (Find terms)\n",
    "\n",
    "So we've made our malware undetectable (above), but we did so by directly manipulating the feature vector. This assumes a powerful and/or dedicated attacker and we're a bit lazy. How can we alter our malware's _behavior_ such that our malware is classified as benign software? Let's identify some system calls (`terms`) that are more likely to be associated with benign software than malicious software. We can do this a couple of different ways. One is to look at the distribution of these system calls in malicious vs. benign traces:"
   ]
  },
  {
   "cell_type": "code",
   "execution_count": 43,
   "metadata": {},
   "outputs": [
    {
     "data": {
      "image/png": "[encoded data removed]",
      "text/plain": [
       "<Figure size 432x288 with 1 Axes>"
      ]
     },
     "metadata": {
      "needs_background": "light"
     },
     "output_type": "display_data"
    }
   ],
   "source": [
    "# Get counts for each trace\n",
    "mal_counts = Counter()\n",
    "for path in maltraces:\n",
    "    with open(path) as f:\n",
    "        trace = f.read()\n",
    "        mal_counts += frequency(trace)\n",
    "        \n",
    "ben_counts = Counter()\n",
    "for path in bentraces:\n",
    "    with open(path) as f:\n",
    "        trace = f.read()\n",
    "        ben_counts += frequency(trace)\n",
    "\n",
    "# Build DataFrame\n",
    "mal_syscalls, mal_freq = zip(*mal_counts.items())\n",
    "ben_syscalls, ben_freq = zip(*ben_counts.items())\n",
    "df = pd.concat([pd.DataFrame({'syscall': mal_syscalls, 'count': mal_freq, 'classlabel': 'malicious'}),\n",
    "                pd.DataFrame({'syscall': ben_syscalls, 'count': ben_freq, 'classlabel': 'benign'})])\n",
    "\n",
    "# Plot it!\n",
    "p = seaborn.barplot(x='count', y='syscall', hue='classlabel', data=df)\n",
    "plt.tight_layout()\n",
    "plt.show()"
   ]
  },
  {
   "cell_type": "markdown",
   "metadata": {},
   "source": [
    "Notice how different the frequencies are between malicious and benign execution traces! Which one of the system calls occurs in roughly the same number of benign and malicious traces? If you wanted to make your malware appear to be benign, which system calls would you inject? Post you answers in Group Chat!\n",
    "\n",
    "It is important to note a few things:\n",
    "* This example is synthetic. It's unlikely the differences will be this extreme!\n",
    "* This is _not_ directly related to the model we are attacking!\n",
    "\n",
    "How can we better understand what the _model_ believes are system calls that indicate malicious vs. benign behavior? Let's dig into the classifier's _coefficients_ and its terms. Defined above are `clf.coef_` and `terms`, which show the model's coefficients for each system call, respectively. The 0th coefficient corresponds to the 0th terms, etc., so let's examine these directly:"
   ]
  },
  {
   "cell_type": "code",
   "execution_count": 44,
   "metadata": {},
   "outputs": [
    {
     "data": {
      "text/plain": [
       "[(-2.144622087973715, 'ntreadfile'),\n",
       " (-2.1418627669686718, 'ntcreateuserprocess'),\n",
       " (-2.1407567984612896, 'ntquerydirectoryfile'),\n",
       " (-2.1405272962289321, 'ntdrawtext'),\n",
       " (-2.1396719582510686, 'ntdisplaystring'),\n",
       " (-2.1396547495478848, 'ntopenfile'),\n",
       " (-2.1385463916610412, 'ntopenkeyex'),\n",
       " (-2.1384532744136893, 'ntopentimer'),\n",
       " (0.10771154443371385, 'ntwritefile'),\n",
       " (2.2427679460606096, 'ntsettimerex'),\n",
       " (2.2431060978323236, 'regsavekeyex'),\n",
       " (2.2442406107176387, 'ntcreatethreadex'),\n",
       " (2.244822624665082, 'ntcreateprocessex'),\n",
       " (2.245233313408201, 'ntmodifybootentry'),\n",
       " (2.2461329578438209, 'ntsavekeyex'),\n",
       " (2.2480150712142537, 'regcreatekeyex')]"
      ]
     },
     "execution_count": 44,
     "metadata": {},
     "output_type": "execute_result"
    }
   ],
   "source": [
    "sorted(list(zip(clf.coef_[0], terms)))"
   ]
  },
  {
   "cell_type": "markdown",
   "metadata": {},
   "source": [
    "How do these values correspond to the counts we saw in the previous plot? If you were trying to make a malicious binary appear benign, which system calls would you force you malware to call? Why? Post your thoughts in Group Chat!"
   ]
  },
  {
   "cell_type": "markdown",
   "metadata": {},
   "source": [
    "## Indirect Attack Part 2 (Adversarial Sample Generation)"
   ]
  },
  {
   "cell_type": "markdown",
   "metadata": {},
   "source": [
    "Based on what we learned above, modify the `gen_adversarial_sample` function below to have `syscall` default to one that is more associated with benign traces than malicious traces."
   ]
  },
  {
   "cell_type": "code",
   "execution_count": 81,
   "metadata": {},
   "outputs": [],
   "source": [
    "def gen_adversarial_sample(path, syscall='ntwritefile'):\n",
    "    with open(path) as f:\n",
    "        s = f.read()\n",
    "        numsyscalls = len(s.split())\n",
    "        s_benign = s + '\\n' + '\\n'.join(itertools.repeat(syscall, numsyscalls))\n",
    "        return s, s_benign"
   ]
  },
  {
   "cell_type": "code",
   "execution_count": 82,
   "metadata": {},
   "outputs": [
    {
     "name": "stdout",
     "output_type": "stream",
     "text": [
      "311230\n",
      "565462\n"
     ]
    }
   ],
   "source": [
    "s, s_benign = gen_adversarial_sample(maltraces[0])\n",
    "print(len(s))\n",
    "print(len(s_benign))"
   ]
  },
  {
   "cell_type": "code",
   "execution_count": 89,
   "metadata": {},
   "outputs": [
    {
     "data": {
      "text/plain": [
       "array([1, 1])"
      ]
     },
     "execution_count": 89,
     "metadata": {},
     "output_type": "execute_result"
    }
   ],
   "source": [
    "clf.predict(vectorizer.transform([s, s_benign]))"
   ]
  },
  {
   "cell_type": "markdown",
   "metadata": {},
   "source": [
    "If the above cell doesn't output `array([1, 1])`, you chose the wrong `syscall` :(. Try again! Otherwise, let's see if it works on _all_ malicious traces!"
   ]
  },
  {
   "cell_type": "code",
   "execution_count": 84,
   "metadata": {},
   "outputs": [
    {
     "name": "stdout",
     "output_type": "stream",
     "text": [
      "Counter({1: 1000})\n",
      "Counter({1: 1000})\n"
     ]
    }
   ],
   "source": [
    "orig = []\n",
    "mutated = []\n",
    "for maltrace in maltraces:\n",
    "    mal, adv = gen_adversarial_sample(maltrace)\n",
    "    malvec = vectorizer.transform([mal])\n",
    "    advvec = vectorizer.transform([adv])\n",
    "    orig.append(clf.predict(malvec))\n",
    "    mutated.append(clf.predict(advvec))\n",
    "print(Counter([x[0] for x in orig]))\n",
    "print(Counter([x[0] for x in mutated]))"
   ]
  },
  {
   "cell_type": "markdown",
   "metadata": {},
   "source": [
    "If the above cell doesn't output \n",
    "\n",
    "```\n",
    "Counter({1: 1000})\n",
    "Counter({0: 1000})\n",
    "```\n",
    "\n",
    "you chose the wrong `syscall` :(. Try again!\n",
    "\n",
    "Not only does it work on a single example, but it breaks everything we saw in the ground truth! Some questions:\n",
    "\n",
    "* Why was the default syscall `'ntwritefile'`?\n",
    "* Describe how `gen_adversarial_sample` works. How would you defend against this if this was one of your models?\n",
    "\n",
    "Post your answers to Group Chat!"
   ]
  },
  {
   "cell_type": "markdown",
   "metadata": {},
   "source": [
    "## Extra Credit: Make Classifier Monotonic\n",
    "\n",
    "A simple way to make a classifier monotonic for our purposes is to not allow attackers to abuse negative coefficient features. Add a vector to `clf.coef` such that there are no longer negative coefficients, and demonstrates this defeats your adversarial generation function from the previous exercise."
   ]
  }
 ],
 "metadata": {
  "kernelspec": {
   "display_name": "Python 3",
   "language": "python",
   "name": "python3"
  },
  "language_info": {
   "codemirror_mode": {
    "name": "ipython",
    "version": 3
   },
   "file_extension": ".py",
   "mimetype": "text/x-python",
   "name": "python",
   "nbconvert_exporter": "python",
   "pygments_lexer": "ipython3",
   "version": "3.6.7"
  }
 },
 "nbformat": 4,
 "nbformat_minor": 2
}
